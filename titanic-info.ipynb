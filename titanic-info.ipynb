{
 "cells": [
  {
   "cell_type": "code",
   "execution_count": 1,
   "id": "457b949d",
   "metadata": {
    "execution": {
     "iopub.execute_input": "2023-10-25T14:46:14.452666Z",
     "iopub.status.busy": "2023-10-25T14:46:14.452064Z",
     "iopub.status.idle": "2023-10-25T14:46:16.757165Z",
     "shell.execute_reply": "2023-10-25T14:46:16.755731Z"
    },
    "papermill": {
     "duration": 2.325047,
     "end_time": "2023-10-25T14:46:16.760265",
     "exception": false,
     "start_time": "2023-10-25T14:46:14.435218",
     "status": "completed"
    },
    "tags": []
   },
   "outputs": [],
   "source": [
    "import pandas as pd\n",
    "import numpy as np\n",
    "import matplotlib.pyplot as plt\n",
    "import seaborn as sns"
   ]
  },
  {
   "cell_type": "markdown",
   "id": "279a8464",
   "metadata": {
    "papermill": {
     "duration": 0.01256,
     "end_time": "2023-10-25T14:46:16.785902",
     "exception": false,
     "start_time": "2023-10-25T14:46:16.773342",
     "status": "completed"
    },
    "tags": []
   },
   "source": [
    "**Reading Dataset.**"
   ]
  },
  {
   "cell_type": "code",
   "execution_count": 2,
   "id": "877d858b",
   "metadata": {
    "execution": {
     "iopub.execute_input": "2023-10-25T14:46:16.814525Z",
     "iopub.status.busy": "2023-10-25T14:46:16.813253Z",
     "iopub.status.idle": "2023-10-25T14:46:16.854269Z",
     "shell.execute_reply": "2023-10-25T14:46:16.853152Z"
    },
    "papermill": {
     "duration": 0.058707,
     "end_time": "2023-10-25T14:46:16.856990",
     "exception": false,
     "start_time": "2023-10-25T14:46:16.798283",
     "status": "completed"
    },
    "tags": []
   },
   "outputs": [],
   "source": [
    "# Importing dataset into variable named train_df, test_df\n",
    "train_df = pd.read_csv('/kaggle/input/titanic/train.csv')\n",
    "test_df= pd.read_csv('/kaggle/input/titanic/test.csv')"
   ]
  },
  {
   "cell_type": "code",
   "execution_count": 3,
   "id": "c5c375bb",
   "metadata": {
    "execution": {
     "iopub.execute_input": "2023-10-25T14:46:16.885933Z",
     "iopub.status.busy": "2023-10-25T14:46:16.885466Z",
     "iopub.status.idle": "2023-10-25T14:46:16.920325Z",
     "shell.execute_reply": "2023-10-25T14:46:16.918506Z"
    },
    "papermill": {
     "duration": 0.052834,
     "end_time": "2023-10-25T14:46:16.923160",
     "exception": false,
     "start_time": "2023-10-25T14:46:16.870326",
     "status": "completed"
    },
    "tags": []
   },
   "outputs": [
    {
     "data": {
      "text/html": [
       "<div>\n",
       "<style scoped>\n",
       "    .dataframe tbody tr th:only-of-type {\n",
       "        vertical-align: middle;\n",
       "    }\n",
       "\n",
       "    .dataframe tbody tr th {\n",
       "        vertical-align: top;\n",
       "    }\n",
       "\n",
       "    .dataframe thead th {\n",
       "        text-align: right;\n",
       "    }\n",
       "</style>\n",
       "<table border=\"1\" class=\"dataframe\">\n",
       "  <thead>\n",
       "    <tr style=\"text-align: right;\">\n",
       "      <th></th>\n",
       "      <th>PassengerId</th>\n",
       "      <th>Survived</th>\n",
       "      <th>Pclass</th>\n",
       "      <th>Name</th>\n",
       "      <th>Sex</th>\n",
       "      <th>Age</th>\n",
       "      <th>SibSp</th>\n",
       "      <th>Parch</th>\n",
       "      <th>Ticket</th>\n",
       "      <th>Fare</th>\n",
       "      <th>Cabin</th>\n",
       "      <th>Embarked</th>\n",
       "    </tr>\n",
       "  </thead>\n",
       "  <tbody>\n",
       "    <tr>\n",
       "      <th>0</th>\n",
       "      <td>1</td>\n",
       "      <td>0</td>\n",
       "      <td>3</td>\n",
       "      <td>Braund, Mr. Owen Harris</td>\n",
       "      <td>male</td>\n",
       "      <td>22.0</td>\n",
       "      <td>1</td>\n",
       "      <td>0</td>\n",
       "      <td>A/5 21171</td>\n",
       "      <td>7.2500</td>\n",
       "      <td>NaN</td>\n",
       "      <td>S</td>\n",
       "    </tr>\n",
       "    <tr>\n",
       "      <th>1</th>\n",
       "      <td>2</td>\n",
       "      <td>1</td>\n",
       "      <td>1</td>\n",
       "      <td>Cumings, Mrs. John Bradley (Florence Briggs Th...</td>\n",
       "      <td>female</td>\n",
       "      <td>38.0</td>\n",
       "      <td>1</td>\n",
       "      <td>0</td>\n",
       "      <td>PC 17599</td>\n",
       "      <td>71.2833</td>\n",
       "      <td>C85</td>\n",
       "      <td>C</td>\n",
       "    </tr>\n",
       "    <tr>\n",
       "      <th>2</th>\n",
       "      <td>3</td>\n",
       "      <td>1</td>\n",
       "      <td>3</td>\n",
       "      <td>Heikkinen, Miss. Laina</td>\n",
       "      <td>female</td>\n",
       "      <td>26.0</td>\n",
       "      <td>0</td>\n",
       "      <td>0</td>\n",
       "      <td>STON/O2. 3101282</td>\n",
       "      <td>7.9250</td>\n",
       "      <td>NaN</td>\n",
       "      <td>S</td>\n",
       "    </tr>\n",
       "    <tr>\n",
       "      <th>3</th>\n",
       "      <td>4</td>\n",
       "      <td>1</td>\n",
       "      <td>1</td>\n",
       "      <td>Futrelle, Mrs. Jacques Heath (Lily May Peel)</td>\n",
       "      <td>female</td>\n",
       "      <td>35.0</td>\n",
       "      <td>1</td>\n",
       "      <td>0</td>\n",
       "      <td>113803</td>\n",
       "      <td>53.1000</td>\n",
       "      <td>C123</td>\n",
       "      <td>S</td>\n",
       "    </tr>\n",
       "    <tr>\n",
       "      <th>4</th>\n",
       "      <td>5</td>\n",
       "      <td>0</td>\n",
       "      <td>3</td>\n",
       "      <td>Allen, Mr. William Henry</td>\n",
       "      <td>male</td>\n",
       "      <td>35.0</td>\n",
       "      <td>0</td>\n",
       "      <td>0</td>\n",
       "      <td>373450</td>\n",
       "      <td>8.0500</td>\n",
       "      <td>NaN</td>\n",
       "      <td>S</td>\n",
       "    </tr>\n",
       "  </tbody>\n",
       "</table>\n",
       "</div>"
      ],
      "text/plain": [
       "   PassengerId  Survived  Pclass  \\\n",
       "0            1         0       3   \n",
       "1            2         1       1   \n",
       "2            3         1       3   \n",
       "3            4         1       1   \n",
       "4            5         0       3   \n",
       "\n",
       "                                                Name     Sex   Age  SibSp  \\\n",
       "0                            Braund, Mr. Owen Harris    male  22.0      1   \n",
       "1  Cumings, Mrs. John Bradley (Florence Briggs Th...  female  38.0      1   \n",
       "2                             Heikkinen, Miss. Laina  female  26.0      0   \n",
       "3       Futrelle, Mrs. Jacques Heath (Lily May Peel)  female  35.0      1   \n",
       "4                           Allen, Mr. William Henry    male  35.0      0   \n",
       "\n",
       "   Parch            Ticket     Fare Cabin Embarked  \n",
       "0      0         A/5 21171   7.2500   NaN        S  \n",
       "1      0          PC 17599  71.2833   C85        C  \n",
       "2      0  STON/O2. 3101282   7.9250   NaN        S  \n",
       "3      0            113803  53.1000  C123        S  \n",
       "4      0            373450   8.0500   NaN        S  "
      ]
     },
     "execution_count": 3,
     "metadata": {},
     "output_type": "execute_result"
    }
   ],
   "source": [
    "train_df.head(5)"
   ]
  },
  {
   "cell_type": "code",
   "execution_count": 4,
   "id": "7ae97a4b",
   "metadata": {
    "execution": {
     "iopub.execute_input": "2023-10-25T14:46:16.952224Z",
     "iopub.status.busy": "2023-10-25T14:46:16.951761Z",
     "iopub.status.idle": "2023-10-25T14:46:16.971312Z",
     "shell.execute_reply": "2023-10-25T14:46:16.970089Z"
    },
    "papermill": {
     "duration": 0.037679,
     "end_time": "2023-10-25T14:46:16.973930",
     "exception": false,
     "start_time": "2023-10-25T14:46:16.936251",
     "status": "completed"
    },
    "tags": []
   },
   "outputs": [
    {
     "data": {
      "text/html": [
       "<div>\n",
       "<style scoped>\n",
       "    .dataframe tbody tr th:only-of-type {\n",
       "        vertical-align: middle;\n",
       "    }\n",
       "\n",
       "    .dataframe tbody tr th {\n",
       "        vertical-align: top;\n",
       "    }\n",
       "\n",
       "    .dataframe thead th {\n",
       "        text-align: right;\n",
       "    }\n",
       "</style>\n",
       "<table border=\"1\" class=\"dataframe\">\n",
       "  <thead>\n",
       "    <tr style=\"text-align: right;\">\n",
       "      <th></th>\n",
       "      <th>PassengerId</th>\n",
       "      <th>Survived</th>\n",
       "      <th>Pclass</th>\n",
       "      <th>Name</th>\n",
       "      <th>Sex</th>\n",
       "      <th>Age</th>\n",
       "      <th>SibSp</th>\n",
       "      <th>Parch</th>\n",
       "      <th>Ticket</th>\n",
       "      <th>Fare</th>\n",
       "      <th>Cabin</th>\n",
       "      <th>Embarked</th>\n",
       "    </tr>\n",
       "  </thead>\n",
       "  <tbody>\n",
       "    <tr>\n",
       "      <th>886</th>\n",
       "      <td>887</td>\n",
       "      <td>0</td>\n",
       "      <td>2</td>\n",
       "      <td>Montvila, Rev. Juozas</td>\n",
       "      <td>male</td>\n",
       "      <td>27.0</td>\n",
       "      <td>0</td>\n",
       "      <td>0</td>\n",
       "      <td>211536</td>\n",
       "      <td>13.00</td>\n",
       "      <td>NaN</td>\n",
       "      <td>S</td>\n",
       "    </tr>\n",
       "    <tr>\n",
       "      <th>887</th>\n",
       "      <td>888</td>\n",
       "      <td>1</td>\n",
       "      <td>1</td>\n",
       "      <td>Graham, Miss. Margaret Edith</td>\n",
       "      <td>female</td>\n",
       "      <td>19.0</td>\n",
       "      <td>0</td>\n",
       "      <td>0</td>\n",
       "      <td>112053</td>\n",
       "      <td>30.00</td>\n",
       "      <td>B42</td>\n",
       "      <td>S</td>\n",
       "    </tr>\n",
       "    <tr>\n",
       "      <th>888</th>\n",
       "      <td>889</td>\n",
       "      <td>0</td>\n",
       "      <td>3</td>\n",
       "      <td>Johnston, Miss. Catherine Helen \"Carrie\"</td>\n",
       "      <td>female</td>\n",
       "      <td>NaN</td>\n",
       "      <td>1</td>\n",
       "      <td>2</td>\n",
       "      <td>W./C. 6607</td>\n",
       "      <td>23.45</td>\n",
       "      <td>NaN</td>\n",
       "      <td>S</td>\n",
       "    </tr>\n",
       "    <tr>\n",
       "      <th>889</th>\n",
       "      <td>890</td>\n",
       "      <td>1</td>\n",
       "      <td>1</td>\n",
       "      <td>Behr, Mr. Karl Howell</td>\n",
       "      <td>male</td>\n",
       "      <td>26.0</td>\n",
       "      <td>0</td>\n",
       "      <td>0</td>\n",
       "      <td>111369</td>\n",
       "      <td>30.00</td>\n",
       "      <td>C148</td>\n",
       "      <td>C</td>\n",
       "    </tr>\n",
       "    <tr>\n",
       "      <th>890</th>\n",
       "      <td>891</td>\n",
       "      <td>0</td>\n",
       "      <td>3</td>\n",
       "      <td>Dooley, Mr. Patrick</td>\n",
       "      <td>male</td>\n",
       "      <td>32.0</td>\n",
       "      <td>0</td>\n",
       "      <td>0</td>\n",
       "      <td>370376</td>\n",
       "      <td>7.75</td>\n",
       "      <td>NaN</td>\n",
       "      <td>Q</td>\n",
       "    </tr>\n",
       "  </tbody>\n",
       "</table>\n",
       "</div>"
      ],
      "text/plain": [
       "     PassengerId  Survived  Pclass                                      Name  \\\n",
       "886          887         0       2                     Montvila, Rev. Juozas   \n",
       "887          888         1       1              Graham, Miss. Margaret Edith   \n",
       "888          889         0       3  Johnston, Miss. Catherine Helen \"Carrie\"   \n",
       "889          890         1       1                     Behr, Mr. Karl Howell   \n",
       "890          891         0       3                       Dooley, Mr. Patrick   \n",
       "\n",
       "        Sex   Age  SibSp  Parch      Ticket   Fare Cabin Embarked  \n",
       "886    male  27.0      0      0      211536  13.00   NaN        S  \n",
       "887  female  19.0      0      0      112053  30.00   B42        S  \n",
       "888  female   NaN      1      2  W./C. 6607  23.45   NaN        S  \n",
       "889    male  26.0      0      0      111369  30.00  C148        C  \n",
       "890    male  32.0      0      0      370376   7.75   NaN        Q  "
      ]
     },
     "execution_count": 4,
     "metadata": {},
     "output_type": "execute_result"
    }
   ],
   "source": [
    "train_df.tail(5)"
   ]
  },
  {
   "cell_type": "code",
   "execution_count": 5,
   "id": "5c76f5b8",
   "metadata": {
    "execution": {
     "iopub.execute_input": "2023-10-25T14:46:17.003304Z",
     "iopub.status.busy": "2023-10-25T14:46:17.002668Z",
     "iopub.status.idle": "2023-10-25T14:46:17.019563Z",
     "shell.execute_reply": "2023-10-25T14:46:17.018621Z"
    },
    "papermill": {
     "duration": 0.034689,
     "end_time": "2023-10-25T14:46:17.022081",
     "exception": false,
     "start_time": "2023-10-25T14:46:16.987392",
     "status": "completed"
    },
    "tags": []
   },
   "outputs": [
    {
     "data": {
      "text/html": [
       "<div>\n",
       "<style scoped>\n",
       "    .dataframe tbody tr th:only-of-type {\n",
       "        vertical-align: middle;\n",
       "    }\n",
       "\n",
       "    .dataframe tbody tr th {\n",
       "        vertical-align: top;\n",
       "    }\n",
       "\n",
       "    .dataframe thead th {\n",
       "        text-align: right;\n",
       "    }\n",
       "</style>\n",
       "<table border=\"1\" class=\"dataframe\">\n",
       "  <thead>\n",
       "    <tr style=\"text-align: right;\">\n",
       "      <th></th>\n",
       "      <th>PassengerId</th>\n",
       "      <th>Pclass</th>\n",
       "      <th>Name</th>\n",
       "      <th>Sex</th>\n",
       "      <th>Age</th>\n",
       "      <th>SibSp</th>\n",
       "      <th>Parch</th>\n",
       "      <th>Ticket</th>\n",
       "      <th>Fare</th>\n",
       "      <th>Cabin</th>\n",
       "      <th>Embarked</th>\n",
       "    </tr>\n",
       "  </thead>\n",
       "  <tbody>\n",
       "    <tr>\n",
       "      <th>0</th>\n",
       "      <td>892</td>\n",
       "      <td>3</td>\n",
       "      <td>Kelly, Mr. James</td>\n",
       "      <td>male</td>\n",
       "      <td>34.5</td>\n",
       "      <td>0</td>\n",
       "      <td>0</td>\n",
       "      <td>330911</td>\n",
       "      <td>7.8292</td>\n",
       "      <td>NaN</td>\n",
       "      <td>Q</td>\n",
       "    </tr>\n",
       "    <tr>\n",
       "      <th>1</th>\n",
       "      <td>893</td>\n",
       "      <td>3</td>\n",
       "      <td>Wilkes, Mrs. James (Ellen Needs)</td>\n",
       "      <td>female</td>\n",
       "      <td>47.0</td>\n",
       "      <td>1</td>\n",
       "      <td>0</td>\n",
       "      <td>363272</td>\n",
       "      <td>7.0000</td>\n",
       "      <td>NaN</td>\n",
       "      <td>S</td>\n",
       "    </tr>\n",
       "    <tr>\n",
       "      <th>2</th>\n",
       "      <td>894</td>\n",
       "      <td>2</td>\n",
       "      <td>Myles, Mr. Thomas Francis</td>\n",
       "      <td>male</td>\n",
       "      <td>62.0</td>\n",
       "      <td>0</td>\n",
       "      <td>0</td>\n",
       "      <td>240276</td>\n",
       "      <td>9.6875</td>\n",
       "      <td>NaN</td>\n",
       "      <td>Q</td>\n",
       "    </tr>\n",
       "    <tr>\n",
       "      <th>3</th>\n",
       "      <td>895</td>\n",
       "      <td>3</td>\n",
       "      <td>Wirz, Mr. Albert</td>\n",
       "      <td>male</td>\n",
       "      <td>27.0</td>\n",
       "      <td>0</td>\n",
       "      <td>0</td>\n",
       "      <td>315154</td>\n",
       "      <td>8.6625</td>\n",
       "      <td>NaN</td>\n",
       "      <td>S</td>\n",
       "    </tr>\n",
       "    <tr>\n",
       "      <th>4</th>\n",
       "      <td>896</td>\n",
       "      <td>3</td>\n",
       "      <td>Hirvonen, Mrs. Alexander (Helga E Lindqvist)</td>\n",
       "      <td>female</td>\n",
       "      <td>22.0</td>\n",
       "      <td>1</td>\n",
       "      <td>1</td>\n",
       "      <td>3101298</td>\n",
       "      <td>12.2875</td>\n",
       "      <td>NaN</td>\n",
       "      <td>S</td>\n",
       "    </tr>\n",
       "  </tbody>\n",
       "</table>\n",
       "</div>"
      ],
      "text/plain": [
       "   PassengerId  Pclass                                          Name     Sex  \\\n",
       "0          892       3                              Kelly, Mr. James    male   \n",
       "1          893       3              Wilkes, Mrs. James (Ellen Needs)  female   \n",
       "2          894       2                     Myles, Mr. Thomas Francis    male   \n",
       "3          895       3                              Wirz, Mr. Albert    male   \n",
       "4          896       3  Hirvonen, Mrs. Alexander (Helga E Lindqvist)  female   \n",
       "\n",
       "    Age  SibSp  Parch   Ticket     Fare Cabin Embarked  \n",
       "0  34.5      0      0   330911   7.8292   NaN        Q  \n",
       "1  47.0      1      0   363272   7.0000   NaN        S  \n",
       "2  62.0      0      0   240276   9.6875   NaN        Q  \n",
       "3  27.0      0      0   315154   8.6625   NaN        S  \n",
       "4  22.0      1      1  3101298  12.2875   NaN        S  "
      ]
     },
     "execution_count": 5,
     "metadata": {},
     "output_type": "execute_result"
    }
   ],
   "source": [
    "test_df.head(5)"
   ]
  },
  {
   "cell_type": "code",
   "execution_count": 6,
   "id": "96ee4882",
   "metadata": {
    "execution": {
     "iopub.execute_input": "2023-10-25T14:46:17.055220Z",
     "iopub.status.busy": "2023-10-25T14:46:17.054159Z",
     "iopub.status.idle": "2023-10-25T14:46:17.073137Z",
     "shell.execute_reply": "2023-10-25T14:46:17.072215Z"
    },
    "papermill": {
     "duration": 0.039957,
     "end_time": "2023-10-25T14:46:17.075827",
     "exception": false,
     "start_time": "2023-10-25T14:46:17.035870",
     "status": "completed"
    },
    "tags": []
   },
   "outputs": [
    {
     "data": {
      "text/html": [
       "<div>\n",
       "<style scoped>\n",
       "    .dataframe tbody tr th:only-of-type {\n",
       "        vertical-align: middle;\n",
       "    }\n",
       "\n",
       "    .dataframe tbody tr th {\n",
       "        vertical-align: top;\n",
       "    }\n",
       "\n",
       "    .dataframe thead th {\n",
       "        text-align: right;\n",
       "    }\n",
       "</style>\n",
       "<table border=\"1\" class=\"dataframe\">\n",
       "  <thead>\n",
       "    <tr style=\"text-align: right;\">\n",
       "      <th></th>\n",
       "      <th>PassengerId</th>\n",
       "      <th>Pclass</th>\n",
       "      <th>Name</th>\n",
       "      <th>Sex</th>\n",
       "      <th>Age</th>\n",
       "      <th>SibSp</th>\n",
       "      <th>Parch</th>\n",
       "      <th>Ticket</th>\n",
       "      <th>Fare</th>\n",
       "      <th>Cabin</th>\n",
       "      <th>Embarked</th>\n",
       "    </tr>\n",
       "  </thead>\n",
       "  <tbody>\n",
       "    <tr>\n",
       "      <th>0</th>\n",
       "      <td>892</td>\n",
       "      <td>3</td>\n",
       "      <td>Kelly, Mr. James</td>\n",
       "      <td>male</td>\n",
       "      <td>34.5</td>\n",
       "      <td>0</td>\n",
       "      <td>0</td>\n",
       "      <td>330911</td>\n",
       "      <td>7.8292</td>\n",
       "      <td>NaN</td>\n",
       "      <td>Q</td>\n",
       "    </tr>\n",
       "    <tr>\n",
       "      <th>1</th>\n",
       "      <td>893</td>\n",
       "      <td>3</td>\n",
       "      <td>Wilkes, Mrs. James (Ellen Needs)</td>\n",
       "      <td>female</td>\n",
       "      <td>47.0</td>\n",
       "      <td>1</td>\n",
       "      <td>0</td>\n",
       "      <td>363272</td>\n",
       "      <td>7.0000</td>\n",
       "      <td>NaN</td>\n",
       "      <td>S</td>\n",
       "    </tr>\n",
       "    <tr>\n",
       "      <th>2</th>\n",
       "      <td>894</td>\n",
       "      <td>2</td>\n",
       "      <td>Myles, Mr. Thomas Francis</td>\n",
       "      <td>male</td>\n",
       "      <td>62.0</td>\n",
       "      <td>0</td>\n",
       "      <td>0</td>\n",
       "      <td>240276</td>\n",
       "      <td>9.6875</td>\n",
       "      <td>NaN</td>\n",
       "      <td>Q</td>\n",
       "    </tr>\n",
       "    <tr>\n",
       "      <th>3</th>\n",
       "      <td>895</td>\n",
       "      <td>3</td>\n",
       "      <td>Wirz, Mr. Albert</td>\n",
       "      <td>male</td>\n",
       "      <td>27.0</td>\n",
       "      <td>0</td>\n",
       "      <td>0</td>\n",
       "      <td>315154</td>\n",
       "      <td>8.6625</td>\n",
       "      <td>NaN</td>\n",
       "      <td>S</td>\n",
       "    </tr>\n",
       "    <tr>\n",
       "      <th>4</th>\n",
       "      <td>896</td>\n",
       "      <td>3</td>\n",
       "      <td>Hirvonen, Mrs. Alexander (Helga E Lindqvist)</td>\n",
       "      <td>female</td>\n",
       "      <td>22.0</td>\n",
       "      <td>1</td>\n",
       "      <td>1</td>\n",
       "      <td>3101298</td>\n",
       "      <td>12.2875</td>\n",
       "      <td>NaN</td>\n",
       "      <td>S</td>\n",
       "    </tr>\n",
       "  </tbody>\n",
       "</table>\n",
       "</div>"
      ],
      "text/plain": [
       "   PassengerId  Pclass                                          Name     Sex  \\\n",
       "0          892       3                              Kelly, Mr. James    male   \n",
       "1          893       3              Wilkes, Mrs. James (Ellen Needs)  female   \n",
       "2          894       2                     Myles, Mr. Thomas Francis    male   \n",
       "3          895       3                              Wirz, Mr. Albert    male   \n",
       "4          896       3  Hirvonen, Mrs. Alexander (Helga E Lindqvist)  female   \n",
       "\n",
       "    Age  SibSp  Parch   Ticket     Fare Cabin Embarked  \n",
       "0  34.5      0      0   330911   7.8292   NaN        Q  \n",
       "1  47.0      1      0   363272   7.0000   NaN        S  \n",
       "2  62.0      0      0   240276   9.6875   NaN        Q  \n",
       "3  27.0      0      0   315154   8.6625   NaN        S  \n",
       "4  22.0      1      1  3101298  12.2875   NaN        S  "
      ]
     },
     "execution_count": 6,
     "metadata": {},
     "output_type": "execute_result"
    }
   ],
   "source": [
    "test_df.head(5)"
   ]
  },
  {
   "cell_type": "code",
   "execution_count": 7,
   "id": "d771d445",
   "metadata": {
    "execution": {
     "iopub.execute_input": "2023-10-25T14:46:17.107634Z",
     "iopub.status.busy": "2023-10-25T14:46:17.106427Z",
     "iopub.status.idle": "2023-10-25T14:46:17.127588Z",
     "shell.execute_reply": "2023-10-25T14:46:17.126294Z"
    },
    "papermill": {
     "duration": 0.039642,
     "end_time": "2023-10-25T14:46:17.130201",
     "exception": false,
     "start_time": "2023-10-25T14:46:17.090559",
     "status": "completed"
    },
    "tags": []
   },
   "outputs": [
    {
     "data": {
      "text/html": [
       "<div>\n",
       "<style scoped>\n",
       "    .dataframe tbody tr th:only-of-type {\n",
       "        vertical-align: middle;\n",
       "    }\n",
       "\n",
       "    .dataframe tbody tr th {\n",
       "        vertical-align: top;\n",
       "    }\n",
       "\n",
       "    .dataframe thead th {\n",
       "        text-align: right;\n",
       "    }\n",
       "</style>\n",
       "<table border=\"1\" class=\"dataframe\">\n",
       "  <thead>\n",
       "    <tr style=\"text-align: right;\">\n",
       "      <th></th>\n",
       "      <th>PassengerId</th>\n",
       "      <th>Pclass</th>\n",
       "      <th>Name</th>\n",
       "      <th>Sex</th>\n",
       "      <th>Age</th>\n",
       "      <th>SibSp</th>\n",
       "      <th>Parch</th>\n",
       "      <th>Ticket</th>\n",
       "      <th>Fare</th>\n",
       "      <th>Cabin</th>\n",
       "      <th>Embarked</th>\n",
       "    </tr>\n",
       "  </thead>\n",
       "  <tbody>\n",
       "    <tr>\n",
       "      <th>413</th>\n",
       "      <td>1305</td>\n",
       "      <td>3</td>\n",
       "      <td>Spector, Mr. Woolf</td>\n",
       "      <td>male</td>\n",
       "      <td>NaN</td>\n",
       "      <td>0</td>\n",
       "      <td>0</td>\n",
       "      <td>A.5. 3236</td>\n",
       "      <td>8.0500</td>\n",
       "      <td>NaN</td>\n",
       "      <td>S</td>\n",
       "    </tr>\n",
       "    <tr>\n",
       "      <th>414</th>\n",
       "      <td>1306</td>\n",
       "      <td>1</td>\n",
       "      <td>Oliva y Ocana, Dona. Fermina</td>\n",
       "      <td>female</td>\n",
       "      <td>39.0</td>\n",
       "      <td>0</td>\n",
       "      <td>0</td>\n",
       "      <td>PC 17758</td>\n",
       "      <td>108.9000</td>\n",
       "      <td>C105</td>\n",
       "      <td>C</td>\n",
       "    </tr>\n",
       "    <tr>\n",
       "      <th>415</th>\n",
       "      <td>1307</td>\n",
       "      <td>3</td>\n",
       "      <td>Saether, Mr. Simon Sivertsen</td>\n",
       "      <td>male</td>\n",
       "      <td>38.5</td>\n",
       "      <td>0</td>\n",
       "      <td>0</td>\n",
       "      <td>SOTON/O.Q. 3101262</td>\n",
       "      <td>7.2500</td>\n",
       "      <td>NaN</td>\n",
       "      <td>S</td>\n",
       "    </tr>\n",
       "    <tr>\n",
       "      <th>416</th>\n",
       "      <td>1308</td>\n",
       "      <td>3</td>\n",
       "      <td>Ware, Mr. Frederick</td>\n",
       "      <td>male</td>\n",
       "      <td>NaN</td>\n",
       "      <td>0</td>\n",
       "      <td>0</td>\n",
       "      <td>359309</td>\n",
       "      <td>8.0500</td>\n",
       "      <td>NaN</td>\n",
       "      <td>S</td>\n",
       "    </tr>\n",
       "    <tr>\n",
       "      <th>417</th>\n",
       "      <td>1309</td>\n",
       "      <td>3</td>\n",
       "      <td>Peter, Master. Michael J</td>\n",
       "      <td>male</td>\n",
       "      <td>NaN</td>\n",
       "      <td>1</td>\n",
       "      <td>1</td>\n",
       "      <td>2668</td>\n",
       "      <td>22.3583</td>\n",
       "      <td>NaN</td>\n",
       "      <td>C</td>\n",
       "    </tr>\n",
       "  </tbody>\n",
       "</table>\n",
       "</div>"
      ],
      "text/plain": [
       "     PassengerId  Pclass                          Name     Sex   Age  SibSp  \\\n",
       "413         1305       3            Spector, Mr. Woolf    male   NaN      0   \n",
       "414         1306       1  Oliva y Ocana, Dona. Fermina  female  39.0      0   \n",
       "415         1307       3  Saether, Mr. Simon Sivertsen    male  38.5      0   \n",
       "416         1308       3           Ware, Mr. Frederick    male   NaN      0   \n",
       "417         1309       3      Peter, Master. Michael J    male   NaN      1   \n",
       "\n",
       "     Parch              Ticket      Fare Cabin Embarked  \n",
       "413      0           A.5. 3236    8.0500   NaN        S  \n",
       "414      0            PC 17758  108.9000  C105        C  \n",
       "415      0  SOTON/O.Q. 3101262    7.2500   NaN        S  \n",
       "416      0              359309    8.0500   NaN        S  \n",
       "417      1                2668   22.3583   NaN        C  "
      ]
     },
     "execution_count": 7,
     "metadata": {},
     "output_type": "execute_result"
    }
   ],
   "source": [
    "test_df.tail(5)"
   ]
  },
  {
   "cell_type": "code",
   "execution_count": 8,
   "id": "f8c3ac51",
   "metadata": {
    "execution": {
     "iopub.execute_input": "2023-10-25T14:46:17.161897Z",
     "iopub.status.busy": "2023-10-25T14:46:17.161138Z",
     "iopub.status.idle": "2023-10-25T14:46:17.203477Z",
     "shell.execute_reply": "2023-10-25T14:46:17.202350Z"
    },
    "papermill": {
     "duration": 0.061796,
     "end_time": "2023-10-25T14:46:17.206575",
     "exception": false,
     "start_time": "2023-10-25T14:46:17.144779",
     "status": "completed"
    },
    "tags": []
   },
   "outputs": [
    {
     "data": {
      "text/html": [
       "<div>\n",
       "<style scoped>\n",
       "    .dataframe tbody tr th:only-of-type {\n",
       "        vertical-align: middle;\n",
       "    }\n",
       "\n",
       "    .dataframe tbody tr th {\n",
       "        vertical-align: top;\n",
       "    }\n",
       "\n",
       "    .dataframe thead th {\n",
       "        text-align: right;\n",
       "    }\n",
       "</style>\n",
       "<table border=\"1\" class=\"dataframe\">\n",
       "  <thead>\n",
       "    <tr style=\"text-align: right;\">\n",
       "      <th></th>\n",
       "      <th>PassengerId</th>\n",
       "      <th>Survived</th>\n",
       "      <th>Pclass</th>\n",
       "      <th>Age</th>\n",
       "      <th>SibSp</th>\n",
       "      <th>Parch</th>\n",
       "      <th>Fare</th>\n",
       "    </tr>\n",
       "  </thead>\n",
       "  <tbody>\n",
       "    <tr>\n",
       "      <th>count</th>\n",
       "      <td>891.000000</td>\n",
       "      <td>891.000000</td>\n",
       "      <td>891.000000</td>\n",
       "      <td>714.000000</td>\n",
       "      <td>891.000000</td>\n",
       "      <td>891.000000</td>\n",
       "      <td>891.000000</td>\n",
       "    </tr>\n",
       "    <tr>\n",
       "      <th>mean</th>\n",
       "      <td>446.000000</td>\n",
       "      <td>0.383838</td>\n",
       "      <td>2.308642</td>\n",
       "      <td>29.699118</td>\n",
       "      <td>0.523008</td>\n",
       "      <td>0.381594</td>\n",
       "      <td>32.204208</td>\n",
       "    </tr>\n",
       "    <tr>\n",
       "      <th>std</th>\n",
       "      <td>257.353842</td>\n",
       "      <td>0.486592</td>\n",
       "      <td>0.836071</td>\n",
       "      <td>14.526497</td>\n",
       "      <td>1.102743</td>\n",
       "      <td>0.806057</td>\n",
       "      <td>49.693429</td>\n",
       "    </tr>\n",
       "    <tr>\n",
       "      <th>min</th>\n",
       "      <td>1.000000</td>\n",
       "      <td>0.000000</td>\n",
       "      <td>1.000000</td>\n",
       "      <td>0.420000</td>\n",
       "      <td>0.000000</td>\n",
       "      <td>0.000000</td>\n",
       "      <td>0.000000</td>\n",
       "    </tr>\n",
       "    <tr>\n",
       "      <th>25%</th>\n",
       "      <td>223.500000</td>\n",
       "      <td>0.000000</td>\n",
       "      <td>2.000000</td>\n",
       "      <td>20.125000</td>\n",
       "      <td>0.000000</td>\n",
       "      <td>0.000000</td>\n",
       "      <td>7.910400</td>\n",
       "    </tr>\n",
       "    <tr>\n",
       "      <th>50%</th>\n",
       "      <td>446.000000</td>\n",
       "      <td>0.000000</td>\n",
       "      <td>3.000000</td>\n",
       "      <td>28.000000</td>\n",
       "      <td>0.000000</td>\n",
       "      <td>0.000000</td>\n",
       "      <td>14.454200</td>\n",
       "    </tr>\n",
       "    <tr>\n",
       "      <th>75%</th>\n",
       "      <td>668.500000</td>\n",
       "      <td>1.000000</td>\n",
       "      <td>3.000000</td>\n",
       "      <td>38.000000</td>\n",
       "      <td>1.000000</td>\n",
       "      <td>0.000000</td>\n",
       "      <td>31.000000</td>\n",
       "    </tr>\n",
       "    <tr>\n",
       "      <th>max</th>\n",
       "      <td>891.000000</td>\n",
       "      <td>1.000000</td>\n",
       "      <td>3.000000</td>\n",
       "      <td>80.000000</td>\n",
       "      <td>8.000000</td>\n",
       "      <td>6.000000</td>\n",
       "      <td>512.329200</td>\n",
       "    </tr>\n",
       "  </tbody>\n",
       "</table>\n",
       "</div>"
      ],
      "text/plain": [
       "       PassengerId    Survived      Pclass         Age       SibSp  \\\n",
       "count   891.000000  891.000000  891.000000  714.000000  891.000000   \n",
       "mean    446.000000    0.383838    2.308642   29.699118    0.523008   \n",
       "std     257.353842    0.486592    0.836071   14.526497    1.102743   \n",
       "min       1.000000    0.000000    1.000000    0.420000    0.000000   \n",
       "25%     223.500000    0.000000    2.000000   20.125000    0.000000   \n",
       "50%     446.000000    0.000000    3.000000   28.000000    0.000000   \n",
       "75%     668.500000    1.000000    3.000000   38.000000    1.000000   \n",
       "max     891.000000    1.000000    3.000000   80.000000    8.000000   \n",
       "\n",
       "            Parch        Fare  \n",
       "count  891.000000  891.000000  \n",
       "mean     0.381594   32.204208  \n",
       "std      0.806057   49.693429  \n",
       "min      0.000000    0.000000  \n",
       "25%      0.000000    7.910400  \n",
       "50%      0.000000   14.454200  \n",
       "75%      0.000000   31.000000  \n",
       "max      6.000000  512.329200  "
      ]
     },
     "execution_count": 8,
     "metadata": {},
     "output_type": "execute_result"
    }
   ],
   "source": [
    "train_df.describe()"
   ]
  },
  {
   "cell_type": "code",
   "execution_count": 9,
   "id": "68b4951f",
   "metadata": {
    "execution": {
     "iopub.execute_input": "2023-10-25T14:46:17.240086Z",
     "iopub.status.busy": "2023-10-25T14:46:17.238479Z",
     "iopub.status.idle": "2023-10-25T14:46:17.251790Z",
     "shell.execute_reply": "2023-10-25T14:46:17.250129Z"
    },
    "papermill": {
     "duration": 0.033342,
     "end_time": "2023-10-25T14:46:17.254775",
     "exception": false,
     "start_time": "2023-10-25T14:46:17.221433",
     "status": "completed"
    },
    "tags": []
   },
   "outputs": [
    {
     "data": {
      "text/plain": [
       "PassengerId      0\n",
       "Survived         0\n",
       "Pclass           0\n",
       "Name             0\n",
       "Sex              0\n",
       "Age            177\n",
       "SibSp            0\n",
       "Parch            0\n",
       "Ticket           0\n",
       "Fare             0\n",
       "Cabin          687\n",
       "Embarked         2\n",
       "dtype: int64"
      ]
     },
     "execution_count": 9,
     "metadata": {},
     "output_type": "execute_result"
    }
   ],
   "source": [
    "train_df.isnull().sum()"
   ]
  },
  {
   "cell_type": "markdown",
   "id": "41514bbc",
   "metadata": {
    "papermill": {
     "duration": 0.014506,
     "end_time": "2023-10-25T14:46:17.284830",
     "exception": false,
     "start_time": "2023-10-25T14:46:17.270324",
     "status": "completed"
    },
    "tags": []
   },
   "source": [
    "Now lets look at the columns available in this dataframe."
   ]
  },
  {
   "cell_type": "code",
   "execution_count": 10,
   "id": "c6aa1916",
   "metadata": {
    "execution": {
     "iopub.execute_input": "2023-10-25T14:46:17.317378Z",
     "iopub.status.busy": "2023-10-25T14:46:17.316867Z",
     "iopub.status.idle": "2023-10-25T14:46:17.325284Z",
     "shell.execute_reply": "2023-10-25T14:46:17.324209Z"
    },
    "papermill": {
     "duration": 0.027999,
     "end_time": "2023-10-25T14:46:17.327820",
     "exception": false,
     "start_time": "2023-10-25T14:46:17.299821",
     "status": "completed"
    },
    "tags": []
   },
   "outputs": [
    {
     "data": {
      "text/plain": [
       "Index(['PassengerId', 'Survived', 'Pclass', 'Name', 'Sex', 'Age', 'SibSp',\n",
       "       'Parch', 'Ticket', 'Fare', 'Cabin', 'Embarked'],\n",
       "      dtype='object')"
      ]
     },
     "execution_count": 10,
     "metadata": {},
     "output_type": "execute_result"
    }
   ],
   "source": [
    "train_df.columns"
   ]
  },
  {
   "cell_type": "code",
   "execution_count": 11,
   "id": "b35c975d",
   "metadata": {
    "execution": {
     "iopub.execute_input": "2023-10-25T14:46:17.360224Z",
     "iopub.status.busy": "2023-10-25T14:46:17.359449Z",
     "iopub.status.idle": "2023-10-25T14:46:17.392398Z",
     "shell.execute_reply": "2023-10-25T14:46:17.390775Z"
    },
    "papermill": {
     "duration": 0.052696,
     "end_time": "2023-10-25T14:46:17.395690",
     "exception": false,
     "start_time": "2023-10-25T14:46:17.342994",
     "status": "completed"
    },
    "tags": []
   },
   "outputs": [
    {
     "name": "stdout",
     "output_type": "stream",
     "text": [
      "<class 'pandas.core.frame.DataFrame'>\n",
      "RangeIndex: 891 entries, 0 to 890\n",
      "Data columns (total 12 columns):\n",
      " #   Column       Non-Null Count  Dtype  \n",
      "---  ------       --------------  -----  \n",
      " 0   PassengerId  891 non-null    int64  \n",
      " 1   Survived     891 non-null    int64  \n",
      " 2   Pclass       891 non-null    int64  \n",
      " 3   Name         891 non-null    object \n",
      " 4   Sex          891 non-null    object \n",
      " 5   Age          714 non-null    float64\n",
      " 6   SibSp        891 non-null    int64  \n",
      " 7   Parch        891 non-null    int64  \n",
      " 8   Ticket       891 non-null    object \n",
      " 9   Fare         891 non-null    float64\n",
      " 10  Cabin        204 non-null    object \n",
      " 11  Embarked     889 non-null    object \n",
      "dtypes: float64(2), int64(5), object(5)\n",
      "memory usage: 83.7+ KB\n"
     ]
    }
   ],
   "source": [
    "train_df.info()"
   ]
  },
  {
   "cell_type": "markdown",
   "id": "6f9607fa",
   "metadata": {
    "papermill": {
     "duration": 0.014924,
     "end_time": "2023-10-25T14:46:17.426256",
     "exception": false,
     "start_time": "2023-10-25T14:46:17.411332",
     "status": "completed"
    },
    "tags": []
   },
   "source": [
    "There are some null values in some columns hence proceed to the next stage of exploration which is data cleaning."
   ]
  },
  {
   "cell_type": "markdown",
   "id": "418c57fb",
   "metadata": {
    "papermill": {
     "duration": 0.014822,
     "end_time": "2023-10-25T14:46:17.457011",
     "exception": false,
     "start_time": "2023-10-25T14:46:17.442189",
     "status": "completed"
    },
    "tags": []
   },
   "source": [
    "**Data Cleaning.**"
   ]
  },
  {
   "cell_type": "markdown",
   "id": "dc110a69",
   "metadata": {
    "papermill": {
     "duration": 0.014553,
     "end_time": "2023-10-25T14:46:17.486963",
     "exception": false,
     "start_time": "2023-10-25T14:46:17.472410",
     "status": "completed"
    },
    "tags": []
   },
   "source": [
    "Drop columns that will not be needed in this analysis"
   ]
  },
  {
   "cell_type": "code",
   "execution_count": 12,
   "id": "34a10c0b",
   "metadata": {
    "execution": {
     "iopub.execute_input": "2023-10-25T14:46:17.518958Z",
     "iopub.status.busy": "2023-10-25T14:46:17.518502Z",
     "iopub.status.idle": "2023-10-25T14:46:17.530086Z",
     "shell.execute_reply": "2023-10-25T14:46:17.528605Z"
    },
    "papermill": {
     "duration": 0.030634,
     "end_time": "2023-10-25T14:46:17.532644",
     "exception": false,
     "start_time": "2023-10-25T14:46:17.502010",
     "status": "completed"
    },
    "tags": []
   },
   "outputs": [],
   "source": [
    "train_df.drop(columns=['Ticket','Name','PassengerId'],axis=1,inplace=True)"
   ]
  },
  {
   "cell_type": "code",
   "execution_count": 13,
   "id": "88b135c0",
   "metadata": {
    "execution": {
     "iopub.execute_input": "2023-10-25T14:46:17.565370Z",
     "iopub.status.busy": "2023-10-25T14:46:17.564720Z",
     "iopub.status.idle": "2023-10-25T14:46:17.582001Z",
     "shell.execute_reply": "2023-10-25T14:46:17.579901Z"
    },
    "papermill": {
     "duration": 0.037252,
     "end_time": "2023-10-25T14:46:17.585017",
     "exception": false,
     "start_time": "2023-10-25T14:46:17.547765",
     "status": "completed"
    },
    "tags": []
   },
   "outputs": [
    {
     "data": {
      "text/html": [
       "<div>\n",
       "<style scoped>\n",
       "    .dataframe tbody tr th:only-of-type {\n",
       "        vertical-align: middle;\n",
       "    }\n",
       "\n",
       "    .dataframe tbody tr th {\n",
       "        vertical-align: top;\n",
       "    }\n",
       "\n",
       "    .dataframe thead th {\n",
       "        text-align: right;\n",
       "    }\n",
       "</style>\n",
       "<table border=\"1\" class=\"dataframe\">\n",
       "  <thead>\n",
       "    <tr style=\"text-align: right;\">\n",
       "      <th></th>\n",
       "      <th>Survived</th>\n",
       "      <th>Pclass</th>\n",
       "      <th>Sex</th>\n",
       "      <th>Age</th>\n",
       "      <th>SibSp</th>\n",
       "      <th>Parch</th>\n",
       "      <th>Fare</th>\n",
       "      <th>Cabin</th>\n",
       "      <th>Embarked</th>\n",
       "    </tr>\n",
       "  </thead>\n",
       "  <tbody>\n",
       "    <tr>\n",
       "      <th>0</th>\n",
       "      <td>0</td>\n",
       "      <td>3</td>\n",
       "      <td>male</td>\n",
       "      <td>22.0</td>\n",
       "      <td>1</td>\n",
       "      <td>0</td>\n",
       "      <td>7.2500</td>\n",
       "      <td>NaN</td>\n",
       "      <td>S</td>\n",
       "    </tr>\n",
       "    <tr>\n",
       "      <th>1</th>\n",
       "      <td>1</td>\n",
       "      <td>1</td>\n",
       "      <td>female</td>\n",
       "      <td>38.0</td>\n",
       "      <td>1</td>\n",
       "      <td>0</td>\n",
       "      <td>71.2833</td>\n",
       "      <td>C85</td>\n",
       "      <td>C</td>\n",
       "    </tr>\n",
       "    <tr>\n",
       "      <th>2</th>\n",
       "      <td>1</td>\n",
       "      <td>3</td>\n",
       "      <td>female</td>\n",
       "      <td>26.0</td>\n",
       "      <td>0</td>\n",
       "      <td>0</td>\n",
       "      <td>7.9250</td>\n",
       "      <td>NaN</td>\n",
       "      <td>S</td>\n",
       "    </tr>\n",
       "    <tr>\n",
       "      <th>3</th>\n",
       "      <td>1</td>\n",
       "      <td>1</td>\n",
       "      <td>female</td>\n",
       "      <td>35.0</td>\n",
       "      <td>1</td>\n",
       "      <td>0</td>\n",
       "      <td>53.1000</td>\n",
       "      <td>C123</td>\n",
       "      <td>S</td>\n",
       "    </tr>\n",
       "    <tr>\n",
       "      <th>4</th>\n",
       "      <td>0</td>\n",
       "      <td>3</td>\n",
       "      <td>male</td>\n",
       "      <td>35.0</td>\n",
       "      <td>0</td>\n",
       "      <td>0</td>\n",
       "      <td>8.0500</td>\n",
       "      <td>NaN</td>\n",
       "      <td>S</td>\n",
       "    </tr>\n",
       "  </tbody>\n",
       "</table>\n",
       "</div>"
      ],
      "text/plain": [
       "   Survived  Pclass     Sex   Age  SibSp  Parch     Fare Cabin Embarked\n",
       "0         0       3    male  22.0      1      0   7.2500   NaN        S\n",
       "1         1       1  female  38.0      1      0  71.2833   C85        C\n",
       "2         1       3  female  26.0      0      0   7.9250   NaN        S\n",
       "3         1       1  female  35.0      1      0  53.1000  C123        S\n",
       "4         0       3    male  35.0      0      0   8.0500   NaN        S"
      ]
     },
     "execution_count": 13,
     "metadata": {},
     "output_type": "execute_result"
    }
   ],
   "source": [
    "train_df.head(5)"
   ]
  },
  {
   "cell_type": "code",
   "execution_count": 14,
   "id": "285bc3da",
   "metadata": {
    "execution": {
     "iopub.execute_input": "2023-10-25T14:46:17.619387Z",
     "iopub.status.busy": "2023-10-25T14:46:17.618942Z",
     "iopub.status.idle": "2023-10-25T14:46:17.629162Z",
     "shell.execute_reply": "2023-10-25T14:46:17.627440Z"
    },
    "papermill": {
     "duration": 0.030975,
     "end_time": "2023-10-25T14:46:17.632101",
     "exception": false,
     "start_time": "2023-10-25T14:46:17.601126",
     "status": "completed"
    },
    "tags": []
   },
   "outputs": [],
   "source": [
    "train_df.interpolate(inplace=True)"
   ]
  },
  {
   "cell_type": "markdown",
   "id": "cbdd41c8",
   "metadata": {
    "papermill": {
     "duration": 0.015157,
     "end_time": "2023-10-25T14:46:17.756144",
     "exception": false,
     "start_time": "2023-10-25T14:46:17.740987",
     "status": "completed"
    },
    "tags": []
   },
   "source": [
    "Check Which columns have null values in them."
   ]
  },
  {
   "cell_type": "code",
   "execution_count": 15,
   "id": "6b34ea93",
   "metadata": {
    "execution": {
     "iopub.execute_input": "2023-10-25T14:46:17.790819Z",
     "iopub.status.busy": "2023-10-25T14:46:17.790357Z",
     "iopub.status.idle": "2023-10-25T14:46:17.801959Z",
     "shell.execute_reply": "2023-10-25T14:46:17.800601Z"
    },
    "papermill": {
     "duration": 0.032912,
     "end_time": "2023-10-25T14:46:17.804644",
     "exception": false,
     "start_time": "2023-10-25T14:46:17.771732",
     "status": "completed"
    },
    "tags": []
   },
   "outputs": [
    {
     "data": {
      "text/plain": [
       "Survived      0\n",
       "Pclass        0\n",
       "Sex           0\n",
       "Age           0\n",
       "SibSp         0\n",
       "Parch         0\n",
       "Fare          0\n",
       "Cabin       687\n",
       "Embarked      2\n",
       "dtype: int64"
      ]
     },
     "execution_count": 15,
     "metadata": {},
     "output_type": "execute_result"
    }
   ],
   "source": [
    "train_df.isnull().sum()"
   ]
  },
  {
   "cell_type": "markdown",
   "id": "a0d05994",
   "metadata": {
    "papermill": {
     "duration": 0.015708,
     "end_time": "2023-10-25T14:46:17.836422",
     "exception": false,
     "start_time": "2023-10-25T14:46:17.820714",
     "status": "completed"
    },
    "tags": []
   },
   "source": [
    "The coulmn 'Embarked' still have 2 data null values it is beacause the interpolate method is designed for numerical data and the column 'Embarked' is with characters so we can use bfill method"
   ]
  },
  {
   "cell_type": "code",
   "execution_count": 16,
   "id": "f4cb12b9",
   "metadata": {
    "execution": {
     "iopub.execute_input": "2023-10-25T14:46:17.870788Z",
     "iopub.status.busy": "2023-10-25T14:46:17.870353Z",
     "iopub.status.idle": "2023-10-25T14:46:17.882272Z",
     "shell.execute_reply": "2023-10-25T14:46:17.880875Z"
    },
    "papermill": {
     "duration": 0.032485,
     "end_time": "2023-10-25T14:46:17.884944",
     "exception": false,
     "start_time": "2023-10-25T14:46:17.852459",
     "status": "completed"
    },
    "tags": []
   },
   "outputs": [],
   "source": [
    "train_df.bfill(inplace=True)"
   ]
  },
  {
   "cell_type": "code",
   "execution_count": 17,
   "id": "57942f5c",
   "metadata": {
    "execution": {
     "iopub.execute_input": "2023-10-25T14:46:17.920257Z",
     "iopub.status.busy": "2023-10-25T14:46:17.919785Z",
     "iopub.status.idle": "2023-10-25T14:46:17.930548Z",
     "shell.execute_reply": "2023-10-25T14:46:17.929406Z"
    },
    "papermill": {
     "duration": 0.032084,
     "end_time": "2023-10-25T14:46:17.933337",
     "exception": false,
     "start_time": "2023-10-25T14:46:17.901253",
     "status": "completed"
    },
    "tags": []
   },
   "outputs": [
    {
     "data": {
      "text/plain": [
       "Survived    0\n",
       "Pclass      0\n",
       "Sex         0\n",
       "Age         0\n",
       "SibSp       0\n",
       "Parch       0\n",
       "Fare        0\n",
       "Cabin       1\n",
       "Embarked    0\n",
       "dtype: int64"
      ]
     },
     "execution_count": 17,
     "metadata": {},
     "output_type": "execute_result"
    }
   ],
   "source": [
    "train_df.isnull().sum()"
   ]
  },
  {
   "cell_type": "code",
   "execution_count": 18,
   "id": "299084e0",
   "metadata": {
    "execution": {
     "iopub.execute_input": "2023-10-25T14:46:17.967524Z",
     "iopub.status.busy": "2023-10-25T14:46:17.967101Z",
     "iopub.status.idle": "2023-10-25T14:46:17.979659Z",
     "shell.execute_reply": "2023-10-25T14:46:17.978145Z"
    },
    "papermill": {
     "duration": 0.032517,
     "end_time": "2023-10-25T14:46:17.982157",
     "exception": false,
     "start_time": "2023-10-25T14:46:17.949640",
     "status": "completed"
    },
    "tags": []
   },
   "outputs": [
    {
     "data": {
      "text/plain": [
       "Age\n",
       "False    891\n",
       "Name: count, dtype: int64"
      ]
     },
     "execution_count": 18,
     "metadata": {},
     "output_type": "execute_result"
    }
   ],
   "source": [
    "train_df.Age.isnull().value_counts()"
   ]
  },
  {
   "cell_type": "code",
   "execution_count": 19,
   "id": "97c7cad9",
   "metadata": {
    "execution": {
     "iopub.execute_input": "2023-10-25T14:46:18.018997Z",
     "iopub.status.busy": "2023-10-25T14:46:18.018538Z",
     "iopub.status.idle": "2023-10-25T14:46:18.027678Z",
     "shell.execute_reply": "2023-10-25T14:46:18.026766Z"
    },
    "papermill": {
     "duration": 0.03177,
     "end_time": "2023-10-25T14:46:18.030665",
     "exception": false,
     "start_time": "2023-10-25T14:46:17.998895",
     "status": "completed"
    },
    "tags": []
   },
   "outputs": [
    {
     "data": {
      "text/plain": [
       "Cabin\n",
       "False    890\n",
       "True       1\n",
       "Name: count, dtype: int64"
      ]
     },
     "execution_count": 19,
     "metadata": {},
     "output_type": "execute_result"
    }
   ],
   "source": [
    "train_df.Cabin.isnull().value_counts()"
   ]
  },
  {
   "cell_type": "markdown",
   "id": "e908aac5",
   "metadata": {
    "papermill": {
     "duration": 0.018429,
     "end_time": "2023-10-25T14:46:18.066197",
     "exception": false,
     "start_time": "2023-10-25T14:46:18.047768",
     "status": "completed"
    },
    "tags": []
   },
   "source": [
    "There is a huge number of data missing values in the cabin column,hence the need to drop it."
   ]
  },
  {
   "cell_type": "code",
   "execution_count": 20,
   "id": "9adbc757",
   "metadata": {
    "execution": {
     "iopub.execute_input": "2023-10-25T14:46:18.100070Z",
     "iopub.status.busy": "2023-10-25T14:46:18.099643Z",
     "iopub.status.idle": "2023-10-25T14:46:18.106462Z",
     "shell.execute_reply": "2023-10-25T14:46:18.104947Z"
    },
    "papermill": {
     "duration": 0.026581,
     "end_time": "2023-10-25T14:46:18.108973",
     "exception": false,
     "start_time": "2023-10-25T14:46:18.082392",
     "status": "completed"
    },
    "tags": []
   },
   "outputs": [],
   "source": [
    "train_df.drop(\"Cabin\", axis =1, inplace =True)"
   ]
  },
  {
   "cell_type": "code",
   "execution_count": 21,
   "id": "fdd60504",
   "metadata": {
    "execution": {
     "iopub.execute_input": "2023-10-25T14:46:18.143087Z",
     "iopub.status.busy": "2023-10-25T14:46:18.142615Z",
     "iopub.status.idle": "2023-10-25T14:46:18.161106Z",
     "shell.execute_reply": "2023-10-25T14:46:18.160128Z"
    },
    "papermill": {
     "duration": 0.038925,
     "end_time": "2023-10-25T14:46:18.163930",
     "exception": false,
     "start_time": "2023-10-25T14:46:18.125005",
     "status": "completed"
    },
    "tags": []
   },
   "outputs": [
    {
     "data": {
      "text/html": [
       "<div>\n",
       "<style scoped>\n",
       "    .dataframe tbody tr th:only-of-type {\n",
       "        vertical-align: middle;\n",
       "    }\n",
       "\n",
       "    .dataframe tbody tr th {\n",
       "        vertical-align: top;\n",
       "    }\n",
       "\n",
       "    .dataframe thead th {\n",
       "        text-align: right;\n",
       "    }\n",
       "</style>\n",
       "<table border=\"1\" class=\"dataframe\">\n",
       "  <thead>\n",
       "    <tr style=\"text-align: right;\">\n",
       "      <th></th>\n",
       "      <th>Survived</th>\n",
       "      <th>Pclass</th>\n",
       "      <th>Sex</th>\n",
       "      <th>Age</th>\n",
       "      <th>SibSp</th>\n",
       "      <th>Parch</th>\n",
       "      <th>Fare</th>\n",
       "      <th>Embarked</th>\n",
       "    </tr>\n",
       "  </thead>\n",
       "  <tbody>\n",
       "    <tr>\n",
       "      <th>0</th>\n",
       "      <td>0</td>\n",
       "      <td>3</td>\n",
       "      <td>male</td>\n",
       "      <td>22.0</td>\n",
       "      <td>1</td>\n",
       "      <td>0</td>\n",
       "      <td>7.2500</td>\n",
       "      <td>S</td>\n",
       "    </tr>\n",
       "    <tr>\n",
       "      <th>1</th>\n",
       "      <td>1</td>\n",
       "      <td>1</td>\n",
       "      <td>female</td>\n",
       "      <td>38.0</td>\n",
       "      <td>1</td>\n",
       "      <td>0</td>\n",
       "      <td>71.2833</td>\n",
       "      <td>C</td>\n",
       "    </tr>\n",
       "    <tr>\n",
       "      <th>2</th>\n",
       "      <td>1</td>\n",
       "      <td>3</td>\n",
       "      <td>female</td>\n",
       "      <td>26.0</td>\n",
       "      <td>0</td>\n",
       "      <td>0</td>\n",
       "      <td>7.9250</td>\n",
       "      <td>S</td>\n",
       "    </tr>\n",
       "    <tr>\n",
       "      <th>3</th>\n",
       "      <td>1</td>\n",
       "      <td>1</td>\n",
       "      <td>female</td>\n",
       "      <td>35.0</td>\n",
       "      <td>1</td>\n",
       "      <td>0</td>\n",
       "      <td>53.1000</td>\n",
       "      <td>S</td>\n",
       "    </tr>\n",
       "    <tr>\n",
       "      <th>4</th>\n",
       "      <td>0</td>\n",
       "      <td>3</td>\n",
       "      <td>male</td>\n",
       "      <td>35.0</td>\n",
       "      <td>0</td>\n",
       "      <td>0</td>\n",
       "      <td>8.0500</td>\n",
       "      <td>S</td>\n",
       "    </tr>\n",
       "    <tr>\n",
       "      <th>5</th>\n",
       "      <td>0</td>\n",
       "      <td>3</td>\n",
       "      <td>male</td>\n",
       "      <td>44.5</td>\n",
       "      <td>0</td>\n",
       "      <td>0</td>\n",
       "      <td>8.4583</td>\n",
       "      <td>Q</td>\n",
       "    </tr>\n",
       "    <tr>\n",
       "      <th>6</th>\n",
       "      <td>0</td>\n",
       "      <td>1</td>\n",
       "      <td>male</td>\n",
       "      <td>54.0</td>\n",
       "      <td>0</td>\n",
       "      <td>0</td>\n",
       "      <td>51.8625</td>\n",
       "      <td>S</td>\n",
       "    </tr>\n",
       "    <tr>\n",
       "      <th>7</th>\n",
       "      <td>0</td>\n",
       "      <td>3</td>\n",
       "      <td>male</td>\n",
       "      <td>2.0</td>\n",
       "      <td>3</td>\n",
       "      <td>1</td>\n",
       "      <td>21.0750</td>\n",
       "      <td>S</td>\n",
       "    </tr>\n",
       "    <tr>\n",
       "      <th>8</th>\n",
       "      <td>1</td>\n",
       "      <td>3</td>\n",
       "      <td>female</td>\n",
       "      <td>27.0</td>\n",
       "      <td>0</td>\n",
       "      <td>2</td>\n",
       "      <td>11.1333</td>\n",
       "      <td>S</td>\n",
       "    </tr>\n",
       "    <tr>\n",
       "      <th>9</th>\n",
       "      <td>1</td>\n",
       "      <td>2</td>\n",
       "      <td>female</td>\n",
       "      <td>14.0</td>\n",
       "      <td>1</td>\n",
       "      <td>0</td>\n",
       "      <td>30.0708</td>\n",
       "      <td>C</td>\n",
       "    </tr>\n",
       "  </tbody>\n",
       "</table>\n",
       "</div>"
      ],
      "text/plain": [
       "   Survived  Pclass     Sex   Age  SibSp  Parch     Fare Embarked\n",
       "0         0       3    male  22.0      1      0   7.2500        S\n",
       "1         1       1  female  38.0      1      0  71.2833        C\n",
       "2         1       3  female  26.0      0      0   7.9250        S\n",
       "3         1       1  female  35.0      1      0  53.1000        S\n",
       "4         0       3    male  35.0      0      0   8.0500        S\n",
       "5         0       3    male  44.5      0      0   8.4583        Q\n",
       "6         0       1    male  54.0      0      0  51.8625        S\n",
       "7         0       3    male   2.0      3      1  21.0750        S\n",
       "8         1       3  female  27.0      0      2  11.1333        S\n",
       "9         1       2  female  14.0      1      0  30.0708        C"
      ]
     },
     "execution_count": 21,
     "metadata": {},
     "output_type": "execute_result"
    }
   ],
   "source": [
    "train_df.head(10)"
   ]
  },
  {
   "cell_type": "markdown",
   "id": "cef1d789",
   "metadata": {
    "papermill": {
     "duration": 0.016673,
     "end_time": "2023-10-25T14:46:18.198375",
     "exception": false,
     "start_time": "2023-10-25T14:46:18.181702",
     "status": "completed"
    },
    "tags": []
   },
   "source": [
    "Lets now explore different classes."
   ]
  },
  {
   "cell_type": "code",
   "execution_count": 22,
   "id": "c074d261",
   "metadata": {
    "execution": {
     "iopub.execute_input": "2023-10-25T14:46:18.234922Z",
     "iopub.status.busy": "2023-10-25T14:46:18.234524Z",
     "iopub.status.idle": "2023-10-25T14:46:18.242642Z",
     "shell.execute_reply": "2023-10-25T14:46:18.241373Z"
    },
    "papermill": {
     "duration": 0.030152,
     "end_time": "2023-10-25T14:46:18.245451",
     "exception": false,
     "start_time": "2023-10-25T14:46:18.215299",
     "status": "completed"
    },
    "tags": []
   },
   "outputs": [
    {
     "name": "stdout",
     "output_type": "stream",
     "text": [
      "[1, 2, 3]\n"
     ]
    }
   ],
   "source": [
    "classes = train_df.Pclass.unique()\n",
    "print(sorted(classes))"
   ]
  },
  {
   "cell_type": "markdown",
   "id": "52401764",
   "metadata": {
    "papermill": {
     "duration": 0.01647,
     "end_time": "2023-10-25T14:46:18.279580",
     "exception": false,
     "start_time": "2023-10-25T14:46:18.263110",
     "status": "completed"
    },
    "tags": []
   },
   "source": [
    "There are three different classes,lets have a deep dive at them."
   ]
  },
  {
   "cell_type": "code",
   "execution_count": 23,
   "id": "746356a0",
   "metadata": {
    "execution": {
     "iopub.execute_input": "2023-10-25T14:46:18.315417Z",
     "iopub.status.busy": "2023-10-25T14:46:18.314977Z",
     "iopub.status.idle": "2023-10-25T14:46:18.324959Z",
     "shell.execute_reply": "2023-10-25T14:46:18.323749Z"
    },
    "papermill": {
     "duration": 0.031353,
     "end_time": "2023-10-25T14:46:18.327763",
     "exception": false,
     "start_time": "2023-10-25T14:46:18.296410",
     "status": "completed"
    },
    "tags": []
   },
   "outputs": [
    {
     "data": {
      "text/plain": [
       "Pclass\n",
       "1    216\n",
       "2    184\n",
       "3    491\n",
       "dtype: int64"
      ]
     },
     "execution_count": 23,
     "metadata": {},
     "output_type": "execute_result"
    }
   ],
   "source": [
    "train_df.groupby('Pclass').size()"
   ]
  },
  {
   "cell_type": "code",
   "execution_count": 24,
   "id": "0aa57fab",
   "metadata": {
    "execution": {
     "iopub.execute_input": "2023-10-25T14:46:18.364070Z",
     "iopub.status.busy": "2023-10-25T14:46:18.363635Z",
     "iopub.status.idle": "2023-10-25T14:46:18.374849Z",
     "shell.execute_reply": "2023-10-25T14:46:18.373401Z"
    },
    "papermill": {
     "duration": 0.032492,
     "end_time": "2023-10-25T14:46:18.377724",
     "exception": false,
     "start_time": "2023-10-25T14:46:18.345232",
     "status": "completed"
    },
    "tags": []
   },
   "outputs": [
    {
     "data": {
      "text/plain": [
       "Sex\n",
       "female    314\n",
       "male      577\n",
       "dtype: int64"
      ]
     },
     "execution_count": 24,
     "metadata": {},
     "output_type": "execute_result"
    }
   ],
   "source": [
    "train_df.groupby('Sex').size()"
   ]
  },
  {
   "cell_type": "code",
   "execution_count": 25,
   "id": "bd3f5fb1",
   "metadata": {
    "execution": {
     "iopub.execute_input": "2023-10-25T14:46:18.415379Z",
     "iopub.status.busy": "2023-10-25T14:46:18.414933Z",
     "iopub.status.idle": "2023-10-25T14:46:18.426365Z",
     "shell.execute_reply": "2023-10-25T14:46:18.425103Z"
    },
    "papermill": {
     "duration": 0.033307,
     "end_time": "2023-10-25T14:46:18.428990",
     "exception": false,
     "start_time": "2023-10-25T14:46:18.395683",
     "status": "completed"
    },
    "tags": []
   },
   "outputs": [
    {
     "data": {
      "text/plain": [
       "Survived\n",
       "0    549\n",
       "1    342\n",
       "dtype: int64"
      ]
     },
     "execution_count": 25,
     "metadata": {},
     "output_type": "execute_result"
    }
   ],
   "source": [
    "train_df.groupby('Survived').size()"
   ]
  },
  {
   "cell_type": "code",
   "execution_count": 26,
   "id": "d22dd2fe",
   "metadata": {
    "execution": {
     "iopub.execute_input": "2023-10-25T14:46:18.465858Z",
     "iopub.status.busy": "2023-10-25T14:46:18.465461Z",
     "iopub.status.idle": "2023-10-25T14:46:18.477592Z",
     "shell.execute_reply": "2023-10-25T14:46:18.476458Z"
    },
    "papermill": {
     "duration": 0.03396,
     "end_time": "2023-10-25T14:46:18.480322",
     "exception": false,
     "start_time": "2023-10-25T14:46:18.446362",
     "status": "completed"
    },
    "tags": []
   },
   "outputs": [
    {
     "data": {
      "text/plain": [
       "Survived  Sex     Pclass\n",
       "0         female  1           3\n",
       "                  2           6\n",
       "                  3          72\n",
       "          male    1          77\n",
       "                  2          91\n",
       "                  3         300\n",
       "1         female  1          91\n",
       "                  2          70\n",
       "                  3          72\n",
       "          male    1          45\n",
       "                  2          17\n",
       "                  3          47\n",
       "dtype: int64"
      ]
     },
     "execution_count": 26,
     "metadata": {},
     "output_type": "execute_result"
    }
   ],
   "source": [
    "train_df.groupby(['Survived','Sex','Pclass']).size()"
   ]
  },
  {
   "cell_type": "code",
   "execution_count": 27,
   "id": "e5ffd206",
   "metadata": {
    "execution": {
     "iopub.execute_input": "2023-10-25T14:46:18.518572Z",
     "iopub.status.busy": "2023-10-25T14:46:18.518143Z",
     "iopub.status.idle": "2023-10-25T14:46:18.848013Z",
     "shell.execute_reply": "2023-10-25T14:46:18.846115Z"
    },
    "papermill": {
     "duration": 0.353782,
     "end_time": "2023-10-25T14:46:18.852961",
     "exception": false,
     "start_time": "2023-10-25T14:46:18.499179",
     "status": "completed"
    },
    "tags": []
   },
   "outputs": [
    {
     "data": {
      "image/png": "[encoded data removed]",
      "text/plain": [
       "<Figure size 640x480 with 1 Axes>"
      ]
     },
     "metadata": {},
     "output_type": "display_data"
    }
   ],
   "source": [
    "sns.set_theme(style=\"ticks\")\n",
    "sns.countplot(x= \"Survived\", hue=\"Sex\", order=[1, 0], data = train_df).set(xticklabels=[\"Survived\", \"Perished\"])\n",
    "plt.xlabel(\"Survival Comparison\")\n",
    "plt.ylabel(\"Number of Passengers\")\n",
    "plt.title(\"Comparison\")\n",
    "plt.legend(labels=[\"Male\", \"Female\"])\n",
    "plt.show()"
   ]
  },
  {
   "cell_type": "markdown",
   "id": "49498a91",
   "metadata": {
    "papermill": {
     "duration": 0.017924,
     "end_time": "2023-10-25T14:46:18.890412",
     "exception": false,
     "start_time": "2023-10-25T14:46:18.872488",
     "status": "completed"
    },
    "tags": []
   },
   "source": [
    "Now lets look at each class per Survivors and Perished."
   ]
  },
  {
   "cell_type": "code",
   "execution_count": 28,
   "id": "d5e90bd4",
   "metadata": {
    "execution": {
     "iopub.execute_input": "2023-10-25T14:46:18.929516Z",
     "iopub.status.busy": "2023-10-25T14:46:18.929058Z",
     "iopub.status.idle": "2023-10-25T14:46:18.942004Z",
     "shell.execute_reply": "2023-10-25T14:46:18.940379Z"
    },
    "papermill": {
     "duration": 0.036308,
     "end_time": "2023-10-25T14:46:18.945391",
     "exception": false,
     "start_time": "2023-10-25T14:46:18.909083",
     "status": "completed"
    },
    "tags": []
   },
   "outputs": [
    {
     "data": {
      "text/plain": [
       "Survived  Pclass\n",
       "0         1          80\n",
       "          2          97\n",
       "          3         372\n",
       "1         1         136\n",
       "          2          87\n",
       "          3         119\n",
       "dtype: int64"
      ]
     },
     "execution_count": 28,
     "metadata": {},
     "output_type": "execute_result"
    }
   ],
   "source": [
    "train_df.groupby(['Survived','Pclass']).size()"
   ]
  },
  {
   "cell_type": "code",
   "execution_count": 29,
   "id": "9f27b341",
   "metadata": {
    "execution": {
     "iopub.execute_input": "2023-10-25T14:46:18.984784Z",
     "iopub.status.busy": "2023-10-25T14:46:18.984317Z",
     "iopub.status.idle": "2023-10-25T14:46:19.382417Z",
     "shell.execute_reply": "2023-10-25T14:46:19.380717Z"
    },
    "papermill": {
     "duration": 0.420956,
     "end_time": "2023-10-25T14:46:19.385437",
     "exception": false,
     "start_time": "2023-10-25T14:46:18.964481",
     "status": "completed"
    },
    "tags": []
   },
   "outputs": [
    {
     "data": {
      "image/png": "[encoded data removed]",
      "text/plain": [
       "<Figure size 640x480 with 1 Axes>"
      ]
     },
     "metadata": {},
     "output_type": "display_data"
    }
   ],
   "source": [
    "sns.set_theme(style=\"ticks\")\n",
    "sns.countplot(x= \"Survived\", hue=\"Pclass\", order=[1, 0], data = train_df).set(xticklabels=[\"Survived\", \"Perished\"])\n",
    "plt.xlabel(\"Survival Comparison\")\n",
    "plt.ylabel(\"Number of Passengers\")\n",
    "plt.title(\"Comparison\")\n",
    "plt.legend(labels=[\"1\", \"2\",\"3\"])\n",
    "plt.show()"
   ]
  },
  {
   "cell_type": "code",
   "execution_count": 30,
   "id": "495c1ec0",
   "metadata": {
    "execution": {
     "iopub.execute_input": "2023-10-25T14:46:19.429864Z",
     "iopub.status.busy": "2023-10-25T14:46:19.427834Z",
     "iopub.status.idle": "2023-10-25T14:46:19.877146Z",
     "shell.execute_reply": "2023-10-25T14:46:19.875811Z"
    },
    "papermill": {
     "duration": 0.474939,
     "end_time": "2023-10-25T14:46:19.879901",
     "exception": false,
     "start_time": "2023-10-25T14:46:19.404962",
     "status": "completed"
    },
    "tags": []
   },
   "outputs": [
    {
     "data": {
      "text/plain": [
       "Text(0.5, 1.0, 'Age of Male Survivors')"
      ]
     },
     "execution_count": 30,
     "metadata": {},
     "output_type": "execute_result"
    },
    {
     "data": {
      "image/png": "[encoded data removed]",
      "text/plain": [
       "<Figure size 640x480 with 1 Axes>"
      ]
     },
     "metadata": {},
     "output_type": "display_data"
    }
   ],
   "source": [
    "train_df[(train_df.Sex == 'male') & (train_df.Survived == 1)].Age.hist()\n",
    "plt.ylabel('Number of Survivors')\n",
    "plt.xlabel('Age')\n",
    "plt.title('Age of Male Survivors')"
   ]
  },
  {
   "cell_type": "code",
   "execution_count": 31,
   "id": "2c6863d3",
   "metadata": {
    "execution": {
     "iopub.execute_input": "2023-10-25T14:46:19.919708Z",
     "iopub.status.busy": "2023-10-25T14:46:19.919314Z",
     "iopub.status.idle": "2023-10-25T14:46:20.340816Z",
     "shell.execute_reply": "2023-10-25T14:46:20.339462Z"
    },
    "papermill": {
     "duration": 0.444986,
     "end_time": "2023-10-25T14:46:20.343693",
     "exception": false,
     "start_time": "2023-10-25T14:46:19.898707",
     "status": "completed"
    },
    "tags": []
   },
   "outputs": [
    {
     "data": {
      "text/plain": [
       "Text(0.5, 1.0, 'Age of Female Survivors')"
      ]
     },
     "execution_count": 31,
     "metadata": {},
     "output_type": "execute_result"
    },
    {
     "data": {
      "image/png": "[encoded data removed]",
      "text/plain": [
       "<Figure size 640x480 with 1 Axes>"
      ]
     },
     "metadata": {},
     "output_type": "display_data"
    }
   ],
   "source": [
    "train_df[(train_df.Sex == 'female') & (train_df.Survived == 1)].Age.hist()\n",
    "plt.ylabel('Number of Survivors')\n",
    "plt.xlabel('Age')\n",
    "plt.title('Age of Female Survivors')"
   ]
  }
 ],
 "metadata": {
  "kernelspec": {
   "display_name": "Python 3",
   "language": "python",
   "name": "python3"
  },
  "language_info": {
   "codemirror_mode": {
    "name": "ipython",
    "version": 3
   },
   "file_extension": ".py",
   "mimetype": "text/x-python",
   "name": "python",
   "nbconvert_exporter": "python",
   "pygments_lexer": "ipython3",
   "version": "3.10.12"
  },
  "papermill": {
   "default_parameters": {},
   "duration": 10.626224,
   "end_time": "2023-10-25T14:46:21.085572",
   "environment_variables": {},
   "exception": null,
   "input_path": "__notebook__.ipynb",
   "output_path": "__notebook__.ipynb",
   "parameters": {},
   "start_time": "2023-10-25T14:46:10.459348",
   "version": "2.4.0"
  }
 },
 "nbformat": 4,
 "nbformat_minor": 5
}
